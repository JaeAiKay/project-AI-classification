{
 "cells": [
  {
   "cell_type": "code",
   "execution_count": 1,
   "metadata": {},
   "outputs": [],
   "source": [
    "import pandas as pd\n",
    "import numpy as np\n",
    "import tensorflow as tf"
   ]
  },
  {
   "cell_type": "code",
   "execution_count": 2,
   "metadata": {},
   "outputs": [
    {
     "data": {
      "text/plain": [
       "Index(['surgery', 'age', 'hospital_number', 'temperature', 'pulse',\n",
       "       'respiratory_rate', 'temp_of_extremities', 'peripheral_pulse',\n",
       "       'mucous_membrane', 'capillary_refill_time', 'pain', 'peristalsis',\n",
       "       'abdominal_distention', 'nasogastric_tube', 'nasogastric_reflux',\n",
       "       'nasogastric_reflux_ph', 'rectal_exam_feces', 'abdomen',\n",
       "       'packed_cell_volume', 'total_protein', 'abdomo_appearance',\n",
       "       'abdomo_protein', 'outcome Class', 'surgical_lesion', 'lesion'],\n",
       "      dtype='object')"
      ]
     },
     "execution_count": 2,
     "metadata": {},
     "output_type": "execute_result"
    }
   ],
   "source": [
    "data_sets = pd.read_csv('./cow.csv')\n",
    "data_sets.columns"
   ]
  },
  {
   "cell_type": "code",
   "execution_count": 3,
   "metadata": {},
   "outputs": [
    {
     "data": {
      "text/html": [
       "<div>\n",
       "<style scoped>\n",
       "    .dataframe tbody tr th:only-of-type {\n",
       "        vertical-align: middle;\n",
       "    }\n",
       "\n",
       "    .dataframe tbody tr th {\n",
       "        vertical-align: top;\n",
       "    }\n",
       "\n",
       "    .dataframe thead th {\n",
       "        text-align: right;\n",
       "    }\n",
       "</style>\n",
       "<table border=\"1\" class=\"dataframe\">\n",
       "  <thead>\n",
       "    <tr style=\"text-align: right;\">\n",
       "      <th></th>\n",
       "      <th>surgery</th>\n",
       "      <th>age</th>\n",
       "      <th>temperature</th>\n",
       "      <th>pulse</th>\n",
       "      <th>respiratory_rate</th>\n",
       "      <th>packed_cell_volume</th>\n",
       "      <th>total_protein</th>\n",
       "      <th>lesion</th>\n",
       "      <th>abdomo_protein</th>\n",
       "      <th>outcome Class</th>\n",
       "    </tr>\n",
       "  </thead>\n",
       "  <tbody>\n",
       "    <tr>\n",
       "      <th>0</th>\n",
       "      <td>0</td>\n",
       "      <td>1</td>\n",
       "      <td>38.5</td>\n",
       "      <td>66.0</td>\n",
       "      <td>28.0</td>\n",
       "      <td>45.0</td>\n",
       "      <td>8.4</td>\n",
       "      <td>11300</td>\n",
       "      <td>3.0</td>\n",
       "      <td>died</td>\n",
       "    </tr>\n",
       "    <tr>\n",
       "      <th>1</th>\n",
       "      <td>1</td>\n",
       "      <td>1</td>\n",
       "      <td>39.2</td>\n",
       "      <td>88.0</td>\n",
       "      <td>20.0</td>\n",
       "      <td>50.0</td>\n",
       "      <td>85.0</td>\n",
       "      <td>2208</td>\n",
       "      <td>2.0</td>\n",
       "      <td>euthanized</td>\n",
       "    </tr>\n",
       "    <tr>\n",
       "      <th>2</th>\n",
       "      <td>0</td>\n",
       "      <td>1</td>\n",
       "      <td>38.3</td>\n",
       "      <td>40.0</td>\n",
       "      <td>24.0</td>\n",
       "      <td>33.0</td>\n",
       "      <td>6.7</td>\n",
       "      <td>0</td>\n",
       "      <td>3.0</td>\n",
       "      <td>lived</td>\n",
       "    </tr>\n",
       "    <tr>\n",
       "      <th>3</th>\n",
       "      <td>1</td>\n",
       "      <td>0</td>\n",
       "      <td>39.1</td>\n",
       "      <td>164.0</td>\n",
       "      <td>84.0</td>\n",
       "      <td>48.0</td>\n",
       "      <td>7.2</td>\n",
       "      <td>2208</td>\n",
       "      <td>5.3</td>\n",
       "      <td>died</td>\n",
       "    </tr>\n",
       "    <tr>\n",
       "      <th>4</th>\n",
       "      <td>0</td>\n",
       "      <td>1</td>\n",
       "      <td>37.3</td>\n",
       "      <td>104.0</td>\n",
       "      <td>35.0</td>\n",
       "      <td>74.0</td>\n",
       "      <td>7.4</td>\n",
       "      <td>4300</td>\n",
       "      <td>3.0</td>\n",
       "      <td>died</td>\n",
       "    </tr>\n",
       "    <tr>\n",
       "      <th>...</th>\n",
       "      <td>...</td>\n",
       "      <td>...</td>\n",
       "      <td>...</td>\n",
       "      <td>...</td>\n",
       "      <td>...</td>\n",
       "      <td>...</td>\n",
       "      <td>...</td>\n",
       "      <td>...</td>\n",
       "      <td>...</td>\n",
       "      <td>...</td>\n",
       "    </tr>\n",
       "    <tr>\n",
       "      <th>293</th>\n",
       "      <td>0</td>\n",
       "      <td>1</td>\n",
       "      <td>38.5</td>\n",
       "      <td>40.0</td>\n",
       "      <td>16.0</td>\n",
       "      <td>37.0</td>\n",
       "      <td>67.0</td>\n",
       "      <td>0</td>\n",
       "      <td>3.0</td>\n",
       "      <td>lived</td>\n",
       "    </tr>\n",
       "    <tr>\n",
       "      <th>294</th>\n",
       "      <td>1</td>\n",
       "      <td>1</td>\n",
       "      <td>37.8</td>\n",
       "      <td>120.0</td>\n",
       "      <td>70.0</td>\n",
       "      <td>55.0</td>\n",
       "      <td>65.0</td>\n",
       "      <td>3205</td>\n",
       "      <td>3.0</td>\n",
       "      <td>euthanized</td>\n",
       "    </tr>\n",
       "    <tr>\n",
       "      <th>296</th>\n",
       "      <td>1</td>\n",
       "      <td>1</td>\n",
       "      <td>37.5</td>\n",
       "      <td>72.0</td>\n",
       "      <td>30.0</td>\n",
       "      <td>60.0</td>\n",
       "      <td>6.8</td>\n",
       "      <td>3205</td>\n",
       "      <td>3.0</td>\n",
       "      <td>died</td>\n",
       "    </tr>\n",
       "    <tr>\n",
       "      <th>297</th>\n",
       "      <td>1</td>\n",
       "      <td>1</td>\n",
       "      <td>36.5</td>\n",
       "      <td>100.0</td>\n",
       "      <td>24.0</td>\n",
       "      <td>50.0</td>\n",
       "      <td>6.0</td>\n",
       "      <td>2208</td>\n",
       "      <td>3.4</td>\n",
       "      <td>lived</td>\n",
       "    </tr>\n",
       "    <tr>\n",
       "      <th>298</th>\n",
       "      <td>1</td>\n",
       "      <td>1</td>\n",
       "      <td>37.2</td>\n",
       "      <td>40.0</td>\n",
       "      <td>20.0</td>\n",
       "      <td>36.0</td>\n",
       "      <td>62.0</td>\n",
       "      <td>6112</td>\n",
       "      <td>1.0</td>\n",
       "      <td>euthanized</td>\n",
       "    </tr>\n",
       "  </tbody>\n",
       "</table>\n",
       "<p>221 rows × 10 columns</p>\n",
       "</div>"
      ],
      "text/plain": [
       "    surgery age  temperature  pulse  respiratory_rate  packed_cell_volume  \\\n",
       "0         0   1         38.5   66.0              28.0                45.0   \n",
       "1         1   1         39.2   88.0              20.0                50.0   \n",
       "2         0   1         38.3   40.0              24.0                33.0   \n",
       "3         1   0         39.1  164.0              84.0                48.0   \n",
       "4         0   1         37.3  104.0              35.0                74.0   \n",
       "..      ...  ..          ...    ...               ...                 ...   \n",
       "293       0   1         38.5   40.0              16.0                37.0   \n",
       "294       1   1         37.8  120.0              70.0                55.0   \n",
       "296       1   1         37.5   72.0              30.0                60.0   \n",
       "297       1   1         36.5  100.0              24.0                50.0   \n",
       "298       1   1         37.2   40.0              20.0                36.0   \n",
       "\n",
       "     total_protein  lesion  abdomo_protein outcome Class  \n",
       "0              8.4   11300             3.0          died  \n",
       "1             85.0    2208             2.0    euthanized  \n",
       "2              6.7       0             3.0         lived  \n",
       "3              7.2    2208             5.3          died  \n",
       "4              7.4    4300             3.0          died  \n",
       "..             ...     ...             ...           ...  \n",
       "293           67.0       0             3.0         lived  \n",
       "294           65.0    3205             3.0    euthanized  \n",
       "296            6.8    3205             3.0          died  \n",
       "297            6.0    2208             3.4         lived  \n",
       "298           62.0    6112             1.0    euthanized  \n",
       "\n",
       "[221 rows x 10 columns]"
      ]
     },
     "execution_count": 3,
     "metadata": {},
     "output_type": "execute_result"
    }
   ],
   "source": [
    "feture_cols = ['surgery', 'age', 'temperature', 'pulse', 'respiratory_rate', 'packed_cell_volume', 'total_protein', 'lesion','abdomo_protein' ,'outcome Class']\n",
    "df = data_sets[feture_cols]\n",
    "df.loc[df.surgery == 'no', 'surgery'] = 0\n",
    "df.loc[df.surgery == 'yes', 'surgery'] = 1\n",
    "\n",
    "df.loc[df.age == 'young', 'age'] = 0\n",
    "df.loc[df.age == 'adult', 'age'] = 1\n",
    "\n",
    "df.loc[df.temperature.isnull(), 'temperature'] = 37.8\n",
    "df.loc[df.pulse.isnull(), 'pulse'] = 35\n",
    "df.loc[df.abdomo_protein.isnull(), 'abdomo_protein'] = 3\n",
    "df = df.drop(df[df.isnull().sum(axis=1) > 0].index)\n",
    "df"
   ]
  },
  {
   "cell_type": "code",
   "execution_count": 4,
   "metadata": {},
   "outputs": [
    {
     "data": {
      "text/plain": [
       "lived         138\n",
       "died           52\n",
       "euthanized     31\n",
       "Name: outcome Class, dtype: int64"
      ]
     },
     "execution_count": 4,
     "metadata": {},
     "output_type": "execute_result"
    }
   ],
   "source": [
    "df['outcome Class'].value_counts()"
   ]
  },
  {
   "cell_type": "code",
   "execution_count": 5,
   "metadata": {},
   "outputs": [],
   "source": [
    "X = df\n",
    "y = X['outcome Class'].values\n",
    "X = X.drop(['outcome Class'], axis=1)"
   ]
  },
  {
   "cell_type": "code",
   "execution_count": 6,
   "metadata": {},
   "outputs": [],
   "source": [
    "y[y=='lived'] = 1\n",
    "y[y=='died'] = 2\n",
    "y[y=='euthanized'] = 3\n",
    "y = y.astype('int')"
   ]
  },
  {
   "cell_type": "code",
   "execution_count": 7,
   "metadata": {},
   "outputs": [],
   "source": [
    "# split data\n",
    "from sklearn.model_selection import train_test_split\n",
    "\n",
    "X_train, X_test, y_train, y_test = train_test_split(X, y, test_size=0.1)"
   ]
  },
  {
   "cell_type": "code",
   "execution_count": 8,
   "metadata": {},
   "outputs": [],
   "source": [
    "y_train = y_train.astype('int')"
   ]
  },
  {
   "cell_type": "code",
   "execution_count": 9,
   "metadata": {},
   "outputs": [
    {
     "data": {
      "text/plain": [
       "{'criterion': 'gini', 'max_depth': 3}"
      ]
     },
     "execution_count": 9,
     "metadata": {},
     "output_type": "execute_result"
    }
   ],
   "source": [
    "from sklearn.tree import DecisionTreeClassifier\n",
    "from sklearn.model_selection import GridSearchCV\n",
    "\n",
    "param_grid = { 'criterion':['gini','entropy'], 'max_depth': np.arange(3, 100)}\n",
    "dtree_gscv = GridSearchCV(DecisionTreeClassifier(), param_grid, cv=5)\n",
    "dtree_gscv.fit(X_train, y_train)\n",
    "dtree_gscv.best_params_"
   ]
  },
  {
   "cell_type": "code",
   "execution_count": 10,
   "metadata": {},
   "outputs": [],
   "source": [
    "y_pred = dtree_gscv.predict(X_test)"
   ]
  },
  {
   "cell_type": "code",
   "execution_count": 11,
   "metadata": {},
   "outputs": [
    {
     "data": {
      "text/plain": [
       "0.8260869565217391"
      ]
     },
     "execution_count": 11,
     "metadata": {},
     "output_type": "execute_result"
    }
   ],
   "source": [
    "np.sum(y_pred == y_test)/y_test.size"
   ]
  },
  {
   "cell_type": "code",
   "execution_count": 12,
   "metadata": {},
   "outputs": [
    {
     "data": {
      "text/plain": [
       "(array([1, 2, 3]), array([121,  48,  29], dtype=int64))"
      ]
     },
     "execution_count": 12,
     "metadata": {},
     "output_type": "execute_result"
    }
   ],
   "source": [
    "np.unique(y_train, return_counts=True)"
   ]
  },
  {
   "cell_type": "code",
   "execution_count": 13,
   "metadata": {},
   "outputs": [
    {
     "data": {
      "text/plain": [
       "(array([1, 2, 3]), array([17,  4,  2], dtype=int64))"
      ]
     },
     "execution_count": 13,
     "metadata": {},
     "output_type": "execute_result"
    }
   ],
   "source": [
    "np.unique(y_test, return_counts=True)"
   ]
  },
  {
   "cell_type": "code",
   "execution_count": 14,
   "metadata": {},
   "outputs": [
    {
     "data": {
      "text/plain": [
       "[Text(0.45689655172413796, 0.9, 'x[5] <= 50.5\\ngini = 0.546\\nsamples = 198\\nvalue = [121, 48, 29]'),\n",
       " Text(0.1896551724137931, 0.7, 'x[3] <= 73.5\\ngini = 0.398\\nsamples = 147\\nvalue = [111, 23, 13]'),\n",
       " Text(0.06896551724137931, 0.5, 'x[7] <= 2164.5\\ngini = 0.273\\nsamples = 110\\nvalue = [93, 8, 9]'),\n",
       " Text(0.034482758620689655, 0.3, 'gini = 0.0\\nsamples = 48\\nvalue = [48, 0, 0]'),\n",
       " Text(0.10344827586206896, 0.3, 'x[2] <= 38.15\\ngini = 0.435\\nsamples = 62\\nvalue = [45, 8, 9]'),\n",
       " Text(0.06896551724137931, 0.1, 'gini = 0.578\\nsamples = 35\\nvalue = [20, 6, 9]'),\n",
       " Text(0.13793103448275862, 0.1, 'gini = 0.137\\nsamples = 27\\nvalue = [25, 2, 0]'),\n",
       " Text(0.3103448275862069, 0.5, 'x[6] <= 7.85\\ngini = 0.587\\nsamples = 37\\nvalue = [18, 15, 4]'),\n",
       " Text(0.2413793103448276, 0.3, 'x[6] <= 6.35\\ngini = 0.541\\nsamples = 26\\nvalue = [9, 15, 2]'),\n",
       " Text(0.20689655172413793, 0.1, 'gini = 0.547\\nsamples = 17\\nvalue = [9, 7, 1]'),\n",
       " Text(0.27586206896551724, 0.1, 'gini = 0.198\\nsamples = 9\\nvalue = [0, 8, 1]'),\n",
       " Text(0.3793103448275862, 0.3, 'x[4] <= 25.0\\ngini = 0.298\\nsamples = 11\\nvalue = [9, 0, 2]'),\n",
       " Text(0.3448275862068966, 0.1, 'gini = 0.0\\nsamples = 2\\nvalue = [0, 0, 2]'),\n",
       " Text(0.41379310344827586, 0.1, 'gini = 0.0\\nsamples = 9\\nvalue = [9, 0, 0]'),\n",
       " Text(0.7241379310344828, 0.7, 'x[6] <= 9.6\\ngini = 0.623\\nsamples = 51\\nvalue = [10, 25, 16]'),\n",
       " Text(0.5862068965517241, 0.5, 'x[3] <= 98.0\\ngini = 0.489\\nsamples = 37\\nvalue = [7, 25, 5]'),\n",
       " Text(0.5172413793103449, 0.3, 'x[7] <= 850.0\\ngini = 0.234\\nsamples = 23\\nvalue = [2, 20, 1]'),\n",
       " Text(0.4827586206896552, 0.1, 'gini = 0.0\\nsamples = 1\\nvalue = [0, 0, 1]'),\n",
       " Text(0.5517241379310345, 0.1, 'gini = 0.165\\nsamples = 22\\nvalue = [2, 20, 0]'),\n",
       " Text(0.6551724137931034, 0.3, 'x[7] <= 4752.5\\ngini = 0.663\\nsamples = 14\\nvalue = [5, 5, 4]'),\n",
       " Text(0.6206896551724138, 0.1, 'gini = 0.579\\nsamples = 11\\nvalue = [5, 5, 1]'),\n",
       " Text(0.6896551724137931, 0.1, 'gini = 0.0\\nsamples = 3\\nvalue = [0, 0, 3]'),\n",
       " Text(0.8620689655172413, 0.5, 'x[4] <= 21.0\\ngini = 0.337\\nsamples = 14\\nvalue = [3, 0, 11]'),\n",
       " Text(0.7931034482758621, 0.3, 'x[3] <= 103.0\\ngini = 0.444\\nsamples = 3\\nvalue = [2, 0, 1]'),\n",
       " Text(0.7586206896551724, 0.1, 'gini = 0.0\\nsamples = 2\\nvalue = [2, 0, 0]'),\n",
       " Text(0.8275862068965517, 0.1, 'gini = 0.0\\nsamples = 1\\nvalue = [0, 0, 1]'),\n",
       " Text(0.9310344827586207, 0.3, 'x[3] <= 124.5\\ngini = 0.165\\nsamples = 11\\nvalue = [1, 0, 10]'),\n",
       " Text(0.896551724137931, 0.1, 'gini = 0.0\\nsamples = 9\\nvalue = [0, 0, 9]'),\n",
       " Text(0.9655172413793104, 0.1, 'gini = 0.5\\nsamples = 2\\nvalue = [1, 0, 1]')]"
      ]
     },
     "execution_count": 14,
     "metadata": {},
     "output_type": "execute_result"
    },
    {
     "data": {
      "image/png": "[encoded data removed]",
      "text/plain": [
       "<Figure size 864x576 with 1 Axes>"
      ]
     },
     "metadata": {
      "needs_background": "light"
     },
     "output_type": "display_data"
    }
   ],
   "source": [
    "import matplotlib.pyplot as plt\n",
    "from sklearn import tree\n",
    "\n",
    "dtree_model = DecisionTreeClassifier(criterion='gini', max_depth=4)\n",
    "plt.figure(figsize=(12,8))\n",
    "tree.plot_tree(dtree_model.fit(X_train, y_train))"
   ]
  },
  {
   "cell_type": "code",
   "execution_count": 15,
   "metadata": {},
   "outputs": [
    {
     "data": {
      "text/plain": [
       "0.8260869565217391"
      ]
     },
     "execution_count": 15,
     "metadata": {},
     "output_type": "execute_result"
    }
   ],
   "source": [
    "y_pred = dtree_model.predict(X_test)\n",
    "np.sum(y_pred == y_test)/y_test.size"
   ]
  }
 ],
 "metadata": {
  "kernelspec": {
   "display_name": "myenv",
   "language": "python",
   "name": "python3"
  },
  "language_info": {
   "codemirror_mode": {
    "name": "ipython",
    "version": 3
   },
   "file_extension": ".py",
   "mimetype": "text/x-python",
   "name": "python",
   "nbconvert_exporter": "python",
   "pygments_lexer": "ipython3",
   "version": "3.9.15"
  },
  "orig_nbformat": 4
 },
 "nbformat": 4,
 "nbformat_minor": 2
}
