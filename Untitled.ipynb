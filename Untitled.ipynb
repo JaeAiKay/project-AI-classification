{
 "cells": [
  {
   "cell_type": "code",
   "execution_count": 32,
   "id": "c9726705",
   "metadata": {},
   "outputs": [
    {
     "name": "stderr",
     "output_type": "stream",
     "text": [
      "2023-03-10 14:16:59.461418: I tensorflow/core/platform/cpu_feature_guard.cc:193] This TensorFlow binary is optimized with oneAPI Deep Neural Network Library (oneDNN) to use the following CPU instructions in performance-critical operations:  AVX2 FMA\n",
      "To enable them in other operations, rebuild TensorFlow with the appropriate compiler flags.\n"
     ]
    }
   ],
   "source": [
    "import pandas as pd\n",
    "import numpy as np\n",
    "import tensorflow as tf"
   ]
  },
  {
   "cell_type": "code",
   "execution_count": 2,
   "id": "319ecd89",
   "metadata": {},
   "outputs": [],
   "source": [
    "# Load data"
   ]
  },
  {
   "cell_type": "code",
   "execution_count": 253,
   "id": "16af2287",
   "metadata": {},
   "outputs": [],
   "source": [
    "df = pd.read_csv('./cow.csv')\n",
    "def to_categorical(df,col,):\n",
    "    df[col] = df[col].astype('category')"
   ]
  },
  {
   "cell_type": "code",
   "execution_count": 254,
   "id": "91c29b94",
   "metadata": {},
   "outputs": [],
   "source": [
    "categorical_columns = (\n",
    "    'age', 'temp_of_extremities', 'peripheral_pulse', 'mucous_membrane',\n",
    "    'capillary_refill_time', 'pain', 'outcome Class', 'abdomen',\n",
    "    'rectal_exam_feces'\n",
    ")"
   ]
  },
  {
   "cell_type": "code",
   "execution_count": 258,
   "id": "b423cb72",
   "metadata": {},
   "outputs": [],
   "source": [
    "df.pain.fillna('MASK', inplace=True)"
   ]
  },
  {
   "cell_type": "code",
   "execution_count": 259,
   "id": "31bd8fea",
   "metadata": {},
   "outputs": [],
   "source": [
    "for col in categorical_columns: to_categorical(df, col)"
   ]
  },
  {
   "cell_type": "code",
   "execution_count": 260,
   "id": "e6bb3476",
   "metadata": {},
   "outputs": [],
   "source": [
    "Y = tf.keras.utils.to_categorical(df['outcome Class'].cat.codes)"
   ]
  },
  {
   "cell_type": "code",
   "execution_count": 261,
   "id": "4fcc7d25",
   "metadata": {
    "scrolled": true
   },
   "outputs": [],
   "source": [
    "num_classes = len(df['outcome Class'].dtypes.categories)"
   ]
  },
  {
   "cell_type": "code",
   "execution_count": 264,
   "id": "8015db7f",
   "metadata": {},
   "outputs": [],
   "source": [
    "inputs = tf.keras.layers.Input(shape=(1,))\n",
    "x = tf.keras.layers.Embedding(\n",
    "    df['pain'].cat.codes.unique().size, 126)(inputs)\n",
    "x = tf.keras.layers.Dense(16, activation='relu')(x)\n",
    "x = tf.keras.layers.Flatten()(x)\n",
    "x = tf.keras.layers.Dense(num_classes, activation='softmax')(x)\n",
    "model = tf.keras.Model(inputs=inputs, outputs=x)"
   ]
  },
  {
   "cell_type": "code",
   "execution_count": 271,
   "id": "13055f12",
   "metadata": {},
   "outputs": [],
   "source": [
    "model.compile(\n",
    "    optimizer=tf.keras.optimizers.Adam(),\n",
    "    loss=tf.keras.losses.categorical_crossentropy,\n",
    "    metrics=['accuracy', tf.keras.metrics.Recall()]\n",
    ")"
   ]
  },
  {
   "cell_type": "code",
   "execution_count": 272,
   "id": "17cd2404",
   "metadata": {},
   "outputs": [
    {
     "name": "stdout",
     "output_type": "stream",
     "text": [
      "Epoch 1/10\n",
      "10/10 [==============================] - 1s 2ms/step - loss: 0.8244 - accuracy: 0.6589 - recall: 0.6020\n",
      "Epoch 2/10\n",
      "10/10 [==============================] - 0s 2ms/step - loss: 0.8209 - accuracy: 0.6589 - recall: 0.6020\n",
      "Epoch 3/10\n",
      "10/10 [==============================] - 0s 2ms/step - loss: 0.8198 - accuracy: 0.6589 - recall: 0.6020\n",
      "Epoch 4/10\n",
      "10/10 [==============================] - 0s 2ms/step - loss: 0.8200 - accuracy: 0.6589 - recall: 0.6020\n",
      "Epoch 5/10\n",
      "10/10 [==============================] - 0s 2ms/step - loss: 0.8189 - accuracy: 0.6589 - recall: 0.6020\n",
      "Epoch 6/10\n",
      "10/10 [==============================] - 0s 2ms/step - loss: 0.8193 - accuracy: 0.6589 - recall: 0.6020\n",
      "Epoch 7/10\n",
      "10/10 [==============================] - 0s 2ms/step - loss: 0.8184 - accuracy: 0.6589 - recall: 0.6020\n",
      "Epoch 8/10\n",
      "10/10 [==============================] - 0s 2ms/step - loss: 0.8182 - accuracy: 0.6589 - recall: 0.6020\n",
      "Epoch 9/10\n",
      "10/10 [==============================] - 0s 2ms/step - loss: 0.8188 - accuracy: 0.6589 - recall: 0.6020\n",
      "Epoch 10/10\n",
      "10/10 [==============================] - 0s 2ms/step - loss: 0.8184 - accuracy: 0.6589 - recall: 0.6020\n"
     ]
    },
    {
     "data": {
      "text/plain": [
       "<keras.callbacks.History at 0x7fc838b1bd60>"
      ]
     },
     "execution_count": 272,
     "metadata": {},
     "output_type": "execute_result"
    }
   ],
   "source": [
    "model.fit(df['pain'].cat.codes, Y, epochs=10)"
   ]
  },
  {
   "cell_type": "code",
   "execution_count": 273,
   "id": "44df5617",
   "metadata": {},
   "outputs": [
    {
     "name": "stdout",
     "output_type": "stream",
     "text": [
      "1/1 [==============================] - 0s 77ms/step\n"
     ]
    },
    {
     "data": {
      "text/plain": [
       "array([[0.2564452 , 0.19075857, 0.55279624],\n",
       "       [0.5692508 , 0.14576791, 0.2849812 ],\n",
       "       [0.44334257, 0.2915194 , 0.26513803]], dtype=float32)"
      ]
     },
     "execution_count": 273,
     "metadata": {},
     "output_type": "execute_result"
    }
   ],
   "source": [
    "model.predict([[2],[3],[5]])"
   ]
  },
  {
   "cell_type": "code",
   "execution_count": null,
   "id": "3021c07b",
   "metadata": {},
   "outputs": [],
   "source": []
  },
  {
   "cell_type": "code",
   "execution_count": null,
   "id": "7506da91",
   "metadata": {},
   "outputs": [],
   "source": []
  }
 ],
 "metadata": {
  "kernelspec": {
   "display_name": "Python 3 (ipykernel)",
   "language": "python",
   "name": "python3"
  },
  "language_info": {
   "codemirror_mode": {
    "name": "ipython",
    "version": 3
   },
   "file_extension": ".py",
   "mimetype": "text/x-python",
   "name": "python",
   "nbconvert_exporter": "python",
   "pygments_lexer": "ipython3",
   "version": "3.9.7"
  }
 },
 "nbformat": 4,
 "nbformat_minor": 5
}
